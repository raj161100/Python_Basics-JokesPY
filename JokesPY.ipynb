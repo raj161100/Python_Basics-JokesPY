{
 "cells": [
  {
   "cell_type": "code",
   "execution_count": null,
   "metadata": {},
   "outputs": [],
   "source": [
    "import tkinteras tk\n",
    "import pyjokes"
   ]
  },
  {
   "cell_type": "code",
   "execution_count": null,
   "metadata": {},
   "outputs": [],
   "source": [
    "root = tk.Tk()\n",
    "root.geometry(\"300*100\")\n",
    "root.title(\"Fun Game\")\n",
    "T = tk.Text(root, height=4, width=80)\n",
    "T.pack()\n",
    "\n",
    "def generatejoke():\n",
    "    global joke\n",
    "    joke = pyjokes.get_joke()\n",
    "    T.insert(tk.END, joke)\n",
    "    \n",
    "b = tk.Button(text=\"Joke\", command=generatejoke)\n",
    "b.pack()\n",
    "root.mainloop()"
   ]
  }
 ],
 "metadata": {
  "kernelspec": {
   "display_name": "Python 3",
   "language": "python",
   "name": "python3"
  },
  "language_info": {
   "codemirror_mode": {
    "name": "ipython",
    "version": 3
   },
   "file_extension": ".py",
   "mimetype": "text/x-python",
   "name": "python",
   "nbconvert_exporter": "python",
   "pygments_lexer": "ipython3",
   "version": "3.6.5"
  }
 },
 "nbformat": 4,
 "nbformat_minor": 2
}
